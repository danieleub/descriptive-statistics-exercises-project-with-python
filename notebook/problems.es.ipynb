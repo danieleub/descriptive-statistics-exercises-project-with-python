{
    "cells": [
        {
            "cell_type": "markdown",
            "id": "ac622319",
            "metadata": {},
            "source": [
                "# Problemas de Estadística Descriptica"
            ]
        },
        {
            "cell_type": "markdown",
            "id": "5e0ab0d5",
            "metadata": {},
            "source": [
                "### Ejercicio 1\n",
                "\n",
                "Usaremos NumPy para obtener información y describir estadísticamente.\n",
                "\n",
                "- Generar un arreglo de 100 elementos que sigan una distribución normal.\n",
                "- Generar un arreglo de 100 elementos que sigan una distribución chi-cuadrado con 3 grados de libertad.\n",
                "- Calcular las métricas principales y las medidas estadísticas que mejor describan los dos vectores."
            ]
        },
        {
            "cell_type": "code",
            "execution_count": 15,
            "id": "df526fe0",
            "metadata": {},
            "outputs": [],
            "source": [
                "import numpy as np \n",
                "import pandas as pd \n",
                "import statistics as stats\n",
                "\n",
                "#distribución\n",
                "normal_data = np.random.normal(0, 1, 100)\n",
                "\n",
                "#chi-cuadrado\n",
                "chi_squared_data = np.random.chisquare(3, 100)"
            ]
        },
        {
            "cell_type": "code",
            "execution_count": 27,
            "id": "0b44acbc",
            "metadata": {},
            "outputs": [
                {
                    "name": "stdout",
                    "output_type": "stream",
                    "text": [
                        "\n",
                        "--- Estadísticas para normal ---\n",
                        "media: 0.05768529494654072\n",
                        "mediana: 0.03061507372818846\n",
                        "moda: 0.630958787733907\n",
                        "varianza: 1.0130949434418017\n",
                        "desviacion estandar: 1.0065261762327902\n",
                        "rango: 5.454377613613005\n",
                        "\n",
                        "--- Estadísticas para chi-cuadrado ---\n",
                        "media: 2.597009876589415\n",
                        "mediana: 1.8599629132104472\n",
                        "moda: 4.749727385026039\n",
                        "varianza: 5.427073918739778\n",
                        "desviacion estandar: 2.329608104111028\n",
                        "rango: 12.819849223901153\n"
                    ]
                }
            ],
            "source": [
                "def describir_datos(data, nombre):\n",
                "    print(\"\\n--- Estadísticas para\",nombre,\"---\")\n",
                "\n",
                "    print(\"media:\",stats.mean(data))\n",
                "    print(\"mediana:\",stats.median(data))\n",
                "    print(\"moda:\",stats.mode(data)) \n",
                "    print(\"varianza:\",stats.variance(data))\n",
                "    print(\"desviacion estandar:\",stats.stdev(data))\n",
                "    print(\"rango:\",max(data) - min(data))\n",
                "\n",
                "\n",
                "\n",
                "describir_datos(normal_data, \"normal\")\n",
                "describir_datos(chi_squared_data, \"chi-cuadrado\")\n"
            ]
        },
        {
            "cell_type": "markdown",
            "id": "46c70c3d",
            "metadata": {},
            "source": [
                "### Ejercicio 2\n",
                "\n",
                "Escribe un programa en Python para calcular la desviación estándar de los siguientes datos:\n",
                "\n",
                "```py\n",
                "data = [4, 2, 5, 8, 6]\n",
                "```"
            ]
        },
        {
            "cell_type": "code",
            "execution_count": 3,
            "id": "d590308e",
            "metadata": {},
            "outputs": [
                {
                    "name": "stdout",
                    "output_type": "stream",
                    "text": [
                        "la desviacion estandar: 2.0\n"
                    ]
                }
            ],
            "source": [
                "import numpy as np\n",
                "\n",
                "data = [4,2,5,8,6]\n",
                "\n",
                "\n",
                "print(\"la desviacion estandar:\", np.std(data))\n",
                "\n"
            ]
        }
    ],
    "metadata": {
        "kernelspec": {
            "display_name": "Python 3",
            "language": "python",
            "name": "python3"
        },
        "language_info": {
            "codemirror_mode": {
                "name": "ipython",
                "version": 3
            },
            "file_extension": ".py",
            "mimetype": "text/x-python",
            "name": "python",
            "nbconvert_exporter": "python",
            "pygments_lexer": "ipython3",
            "version": "3.11.4"
        }
    },
    "nbformat": 4,
    "nbformat_minor": 5
}
